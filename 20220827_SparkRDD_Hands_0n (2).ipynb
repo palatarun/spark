{
  "cells": [
    {
      "cell_type": "markdown",
      "source": [
        "#### Check Present Working Directory"
      ],
      "metadata": {
        "id": "39fL1_ODUHk2"
      }
    },
    {
      "cell_type": "code",
      "source": [
        "pwd"
      ],
      "metadata": {
        "colab": {
          "base_uri": "https://localhost:8080/",
          "height": 35
        },
        "id": "mx62yUTATnAR",
        "outputId": "e898eca4-3e41-4d8e-c769-260559e007b9"
      },
      "execution_count": null,
      "outputs": [
        {
          "output_type": "execute_result",
          "data": {
            "text/plain": [
              "'/content'"
            ],
            "application/vnd.google.colaboratory.intrinsic+json": {
              "type": "string"
            }
          },
          "metadata": {},
          "execution_count": 14
        }
      ]
    },
    {
      "cell_type": "code",
      "source": [
        "from google.colab import drive\n",
        "drive.mount('/content/drive')"
      ],
      "metadata": {
        "id": "Fl-MY3WbUF0n",
        "colab": {
          "base_uri": "https://localhost:8080/"
        },
        "outputId": "1391ba2b-3822-47dc-cb72-b1b106a35df7"
      },
      "execution_count": null,
      "outputs": [
        {
          "output_type": "stream",
          "name": "stdout",
          "text": [
            "Drive already mounted at /content/drive; to attempt to forcibly remount, call drive.mount(\"/content/drive\", force_remount=True).\n"
          ]
        }
      ]
    },
    {
      "cell_type": "markdown",
      "source": [
        "#### Change pwd to the path where data is located"
      ],
      "metadata": {
        "id": "UsZepirPUO0o"
      }
    },
    {
      "cell_type": "code",
      "source": [
        "cd /content/drive/MyDrive"
      ],
      "metadata": {
        "colab": {
          "base_uri": "https://localhost:8080/"
        },
        "id": "jNH6ps1fTxEw",
        "outputId": "3ba6a0f8-d59b-4bbe-9555-d8499cceeec3"
      },
      "execution_count": null,
      "outputs": [
        {
          "output_type": "stream",
          "name": "stdout",
          "text": [
            "/content/drive/MyDrive\n"
          ]
        }
      ]
    },
    {
      "cell_type": "code",
      "source": [
        "cd ../../"
      ],
      "metadata": {
        "colab": {
          "base_uri": "https://localhost:8080/"
        },
        "id": "wGAzV3RdU2Sq",
        "outputId": "c2262050-2962-4b18-d98b-c4792b717824"
      },
      "execution_count": null,
      "outputs": [
        {
          "output_type": "stream",
          "name": "stdout",
          "text": [
            "/content\n"
          ]
        }
      ]
    },
    {
      "cell_type": "code",
      "source": [
        "pwd"
      ],
      "metadata": {
        "colab": {
          "base_uri": "https://localhost:8080/",
          "height": 35
        },
        "id": "A2sEOTVxUhEl",
        "outputId": "b3ac86ba-9823-4ba5-f18f-d2af452f92ce"
      },
      "execution_count": null,
      "outputs": [
        {
          "output_type": "execute_result",
          "data": {
            "text/plain": [
              "'/content'"
            ],
            "application/vnd.google.colaboratory.intrinsic+json": {
              "type": "string"
            }
          },
          "metadata": {},
          "execution_count": 18
        }
      ]
    },
    {
      "cell_type": "markdown",
      "source": [
        "## Step -01: Install Java Toolkit"
      ],
      "metadata": {
        "id": "E5YYL-toSGpa"
      }
    },
    {
      "cell_type": "code",
      "execution_count": null,
      "metadata": {
        "id": "zovII6HB-6x4"
      },
      "outputs": [],
      "source": [
        "!apt-get install openjdk-8-jdk-headless -qq > /dev/null"
      ]
    },
    {
      "cell_type": "markdown",
      "source": [
        "## Step 02- Download Spark"
      ],
      "metadata": {
        "id": "8R4FLNrrSWae"
      }
    },
    {
      "cell_type": "code",
      "source": [
        "!wget -q https://archive.apache.org/dist/spark/spark-3.0.1/spark-3.0.1-bin-hadoop2.7.tgz\n",
        "!tar xf /content/drive/MyDrive/ClassroomTeaching/Batch-115B/spark-3.0.1-bin-hadoop2.7.tgz\n"
      ],
      "metadata": {
        "id": "VovecBocR2t3"
      },
      "execution_count": null,
      "outputs": []
    },
    {
      "cell_type": "markdown",
      "source": [
        "## Step 03- Unzip/unRar Spark downloaded File"
      ],
      "metadata": {
        "id": "UmkiQoSPTIM6"
      }
    },
    {
      "cell_type": "code",
      "execution_count": null,
      "metadata": {
        "id": "TUjaIxA--75i"
      },
      "outputs": [],
      "source": [
        "!tar xf spark-3.0.1-bin-hadoop2.7.tgz\n"
      ]
    },
    {
      "cell_type": "code",
      "source": [
        "!pip install -q findspark"
      ],
      "metadata": {
        "id": "2bAqrsE-VIIT"
      },
      "execution_count": null,
      "outputs": []
    },
    {
      "cell_type": "code",
      "execution_count": null,
      "metadata": {
        "id": "H5VT_hhU-9z2"
      },
      "outputs": [],
      "source": [
        "import os\n",
        "import sys\n",
        "\n",
        "os.environ[\"JAVA_HOME\"] = \"/usr/lib/jvm/java-8-openjdk-amd64\"\n",
        "os.environ[\"SPARK_HOME\"] = \"//content/drive/MyDrive/ClassroomTeaching/Batch-115B/spark-3.0.1-bin-hadoop2.7\"\n"
      ]
    },
    {
      "cell_type": "code",
      "execution_count": null,
      "metadata": {
        "id": "RclgAKyq_APL"
      },
      "outputs": [],
      "source": [
        "import findspark\n",
        "findspark.init()\n",
        "\n",
        "import pyspark"
      ]
    },
    {
      "cell_type": "code",
      "execution_count": null,
      "metadata": {
        "id": "gg3MkELp_FO7"
      },
      "outputs": [],
      "source": [
        "from pyspark.sql.types import *\n",
        "from pyspark.sql.functions import * "
      ]
    },
    {
      "cell_type": "code",
      "execution_count": null,
      "metadata": {
        "id": "-9HU_CnG_M-D"
      },
      "outputs": [],
      "source": [
        "import pyspark\n",
        "from pyspark.sql import SparkSession"
      ]
    },
    {
      "cell_type": "code",
      "execution_count": null,
      "metadata": {
        "id": "VYfDLi_r_PdU"
      },
      "outputs": [],
      "source": [
        "spark = SparkSession.builder.appName('Spark RDD').getOrCreate()"
      ]
    },
    {
      "cell_type": "code",
      "execution_count": null,
      "metadata": {
        "id": "jhFukXRw_R1B",
        "colab": {
          "base_uri": "https://localhost:8080/",
          "height": 221
        },
        "outputId": "ec037707-3de4-43b0-a84e-221ee0a4cf76"
      },
      "outputs": [
        {
          "output_type": "execute_result",
          "data": {
            "text/plain": [
              "<pyspark.sql.session.SparkSession at 0x7eff6db525d0>"
            ],
            "text/html": [
              "\n",
              "            <div>\n",
              "                <p><b>SparkSession - in-memory</b></p>\n",
              "                \n",
              "        <div>\n",
              "            <p><b>SparkContext</b></p>\n",
              "\n",
              "            <p><a href=\"http://c9cc735fca6f:4040\">Spark UI</a></p>\n",
              "\n",
              "            <dl>\n",
              "              <dt>Version</dt>\n",
              "                <dd><code>v3.0.1</code></dd>\n",
              "              <dt>Master</dt>\n",
              "                <dd><code>local[*]</code></dd>\n",
              "              <dt>AppName</dt>\n",
              "                <dd><code>Spark RDD</code></dd>\n",
              "            </dl>\n",
              "        </div>\n",
              "        \n",
              "            </div>\n",
              "        "
            ]
          },
          "metadata": {},
          "execution_count": 73
        }
      ],
      "source": [
        "spark"
      ]
    },
    {
      "cell_type": "code",
      "execution_count": null,
      "metadata": {
        "id": "D8bWTmK91qqd"
      },
      "outputs": [],
      "source": [
        "sc = spark.sparkContext"
      ]
    },
    {
      "cell_type": "markdown",
      "metadata": {
        "id": "MfgEa9K11qqe"
      },
      "source": [
        "* Spark introduces the concept of an RDD (Resilient Distributed Dataset), an\n",
        " immutable fault-tolerant, distributed collection of objects that can be operated on\n",
        " in parallel. \n",
        "\n",
        "* An RDD can contain any type of object and is created by loading an\n",
        " external dataset or distributing a collection from the driver program."
      ]
    },
    {
      "cell_type": "code",
      "execution_count": null,
      "metadata": {
        "id": "plTCvSqQ1qqf"
      },
      "outputs": [],
      "source": [
        "### Creating RDD in Pyspark"
      ]
    },
    {
      "cell_type": "markdown",
      "source": [],
      "metadata": {
        "id": "P-LsSEku3Jwy"
      }
    },
    {
      "cell_type": "markdown",
      "source": [
        "#####  There are three ways to create an RDD in Spark.\n",
        "\n",
        "* 1. Parallelizing already existing collection in driver program.\n",
        "* 2. Referencing a dataset in an external storage system (e.g. HDFS, Hbase, shared file system).\n",
        "* 3. Creating RDD from already existing RDDs."
      ],
      "metadata": {
        "id": "QPxIpmKzeiWr"
      }
    },
    {
      "cell_type": "markdown",
      "source": [],
      "metadata": {
        "id": "2dy4rnD6efb7"
      }
    },
    {
      "cell_type": "code",
      "execution_count": null,
      "metadata": {
        "id": "tLlHMwJo1qqh"
      },
      "outputs": [],
      "source": [
        "rdd1 = sc.parallelize(\n",
        "    [\n",
        "      (\"maths\",92),\n",
        "      (\"english\",75),\n",
        "      (\"SCiences\",85),\n",
        "      (\"Social\",90)\n",
        "    ]\n",
        "    )"
      ]
    },
    {
      "cell_type": "code",
      "execution_count": null,
      "metadata": {
        "colab": {
          "base_uri": "https://localhost:8080/"
        },
        "id": "sG0fytiz1qqh",
        "outputId": "9170a8b1-e990-4193-b8e0-875f808ee0da"
      },
      "outputs": [
        {
          "output_type": "execute_result",
          "data": {
            "text/plain": [
              "pyspark.rdd.RDD"
            ]
          },
          "metadata": {},
          "execution_count": 76
        }
      ],
      "source": [
        "type(rdd1)"
      ]
    },
    {
      "cell_type": "code",
      "execution_count": null,
      "metadata": {
        "colab": {
          "base_uri": "https://localhost:8080/"
        },
        "id": "Y072umCe1qqi",
        "outputId": "d184305d-6a54-4841-a85c-c8a74df75020"
      },
      "outputs": [
        {
          "output_type": "execute_result",
          "data": {
            "text/plain": [
              "[('maths', 92), ('english', 75), ('SCiences', 85), ('Social', 90)]"
            ]
          },
          "metadata": {},
          "execution_count": 77
        }
      ],
      "source": [
        "rdd1.collect() \n",
        "\n",
        "# Ram is of 16gb and my job is more than that"
      ]
    },
    {
      "cell_type": "markdown",
      "metadata": {
        "id": "zRiuZXYe1qqi"
      },
      "source": [
        "#### Creating an rdd by reading a file "
      ]
    },
    {
      "cell_type": "code",
      "execution_count": null,
      "metadata": {
        "id": "VureMhC61qqi"
      },
      "outputs": [],
      "source": [
        "rdd2 = sc.textFile('/content/drive/MyDrive/ClassroomTeaching/NMIMS/Classes/20220824_Session10- SparkRDD activity/temp_data.txt')"
      ]
    },
    {
      "cell_type": "code",
      "execution_count": null,
      "metadata": {
        "colab": {
          "base_uri": "https://localhost:8080/"
        },
        "id": "ML4o3aEu1qqj",
        "outputId": "ce4cbda2-5978-47c7-b46b-2dbf8fa69343"
      },
      "outputs": [
        {
          "output_type": "execute_result",
          "data": {
            "text/plain": [
              "/content/drive/MyDrive/ClassroomTeaching/NMIMS/Classes/20220824_Session10- SparkRDD activity/temp_data.txt MapPartitionsRDD[70] at textFile at NativeMethodAccessorImpl.java:0"
            ]
          },
          "metadata": {},
          "execution_count": 79
        }
      ],
      "source": [
        "rdd2"
      ]
    },
    {
      "cell_type": "code",
      "execution_count": null,
      "metadata": {
        "colab": {
          "base_uri": "https://localhost:8080/"
        },
        "id": "QTGeqSZL1qqj",
        "outputId": "b7016194-326e-4091-b175-17cbb939b918"
      },
      "outputs": [
        {
          "output_type": "execute_result",
          "data": {
            "text/plain": [
              "['1901\\t-78\\t1', '1901\\t-72\\t1', '1901\\t-94\\t1', '1901\\t-61\\t1']"
            ]
          },
          "metadata": {},
          "execution_count": 81
        }
      ],
      "source": [
        "rdd2.take(4)"
      ]
    },
    {
      "cell_type": "code",
      "execution_count": null,
      "metadata": {
        "colab": {
          "base_uri": "https://localhost:8080/"
        },
        "id": "fKyZheWe1qqk",
        "outputId": "62c3e8a1-5e35-470c-bb8e-3b5bc3bf12ac"
      },
      "outputs": [
        {
          "output_type": "execute_result",
          "data": {
            "text/plain": [
              "['1901\\t-78\\t1',\n",
              " '1901\\t-72\\t1',\n",
              " '1901\\t-94\\t1',\n",
              " '1901\\t-61\\t1',\n",
              " '1901\\t-56\\t1',\n",
              " '1901\\t-28\\t1',\n",
              " '1901\\t-67\\t1',\n",
              " '1901\\t-33\\t1',\n",
              " '1901\\t-28\\t1',\n",
              " '1901\\t-33\\t1',\n",
              " '1901\\t-44\\t1',\n",
              " '1901\\t-39\\t1',\n",
              " '1901\\t0\\t1',\n",
              " '1901\\t6\\t1']"
            ]
          },
          "metadata": {},
          "execution_count": 82
        }
      ],
      "source": [
        "rdd2.take(14)"
      ]
    },
    {
      "cell_type": "code",
      "execution_count": null,
      "metadata": {
        "id": "Iid8zfbd-c4Y"
      },
      "outputs": [],
      "source": [
        "rdd3 = rdd2.map(lambda s: s.split('\\t'))"
      ]
    },
    {
      "cell_type": "code",
      "execution_count": null,
      "metadata": {
        "colab": {
          "base_uri": "https://localhost:8080/"
        },
        "id": "D9vwiPFRAmyf",
        "outputId": "262cce84-c237-473b-8916-be73fd70339d"
      },
      "outputs": [
        {
          "output_type": "execute_result",
          "data": {
            "text/plain": [
              "pyspark.rdd.PipelinedRDD"
            ]
          },
          "metadata": {},
          "execution_count": 84
        }
      ],
      "source": [
        "type(rdd3)"
      ]
    },
    {
      "cell_type": "code",
      "execution_count": null,
      "metadata": {
        "colab": {
          "base_uri": "https://localhost:8080/"
        },
        "id": "z9A2eJ9UAoBL",
        "outputId": "2e40f123-d62c-4fbd-b800-8bd9b1833921"
      },
      "outputs": [
        {
          "output_type": "execute_result",
          "data": {
            "text/plain": [
              "[['1901', '-78', '1'],\n",
              " ['1901', '-72', '1'],\n",
              " ['1901', '-94', '1'],\n",
              " ['1901', '-61', '1']]"
            ]
          },
          "metadata": {},
          "execution_count": 85
        }
      ],
      "source": [
        "rdd3.take(4)"
      ]
    },
    {
      "cell_type": "code",
      "execution_count": null,
      "metadata": {
        "colab": {
          "base_uri": "https://localhost:8080/"
        },
        "id": "xnSTiDvT1qqn",
        "outputId": "fd379eb3-3ed1-4844-fbb2-697bb200d5bd"
      },
      "outputs": [
        {
          "output_type": "execute_result",
          "data": {
            "text/plain": [
              "['1901\\t-78\\t1', '1901\\t-72\\t1', '1901\\t-94\\t1', '1901\\t-61\\t1']"
            ]
          },
          "metadata": {},
          "execution_count": 86
        }
      ],
      "source": [
        "rdd2.take(4)"
      ]
    },
    {
      "cell_type": "markdown",
      "metadata": {
        "id": "G4mr-RalYPPS"
      },
      "source": [
        "### RDDs support two types of operations:\n",
        "* Transformations are operations (such as map, filter, join, union, and so on) that are performed on an RDD and which yield a new RDD containing the result."
      ]
    },
    {
      "cell_type": "markdown",
      "metadata": {
        "id": "1YV8FYGcYS3s"
      },
      "source": [
        "* Transformations in Spark are “lazy”, meaning that they do not compute their results right away. \n",
        "* They just “remember” the operation to be performed and the dataset (e.g., file) to which the operation is to be    performed. \n",
        "* The transformations are only actually computed when an action is called and the result is returned to the driver program. \n",
        "* This design enables Spark to run more efficiently. For example, if a big file was transformed in various ways and passed to first action, Spark would only process and return the result for the first line, rather than do the work for the entire file."
      ]
    },
    {
      "cell_type": "code",
      "execution_count": null,
      "metadata": {
        "id": "1Ea7w30cAxwo"
      },
      "outputs": [],
      "source": [
        "intRdd = sc.parallelize([10,20,30,40,50])\n",
        "mapRdd = intRdd.map(lambda x : x**2)"
      ]
    },
    {
      "cell_type": "code",
      "execution_count": null,
      "metadata": {
        "colab": {
          "base_uri": "https://localhost:8080/"
        },
        "id": "9S2Y1-nRBokq",
        "outputId": "40107a65-7950-4792-9549-5985c253b306"
      },
      "outputs": [
        {
          "output_type": "execute_result",
          "data": {
            "text/plain": [
              "[10, 20, 30, 40, 50]"
            ]
          },
          "metadata": {},
          "execution_count": 88
        }
      ],
      "source": [
        "intRdd.collect()"
      ]
    },
    {
      "cell_type": "code",
      "source": [
        "mapRdd.collect()"
      ],
      "metadata": {
        "colab": {
          "base_uri": "https://localhost:8080/"
        },
        "id": "zxebUAVI6XTn",
        "outputId": "71898827-7aeb-448c-dedc-31025665d4e8"
      },
      "execution_count": null,
      "outputs": [
        {
          "output_type": "execute_result",
          "data": {
            "text/plain": [
              "[100, 400, 900, 1600, 2500]"
            ]
          },
          "metadata": {},
          "execution_count": 89
        }
      ]
    },
    {
      "cell_type": "code",
      "execution_count": null,
      "metadata": {
        "colab": {
          "base_uri": "https://localhost:8080/"
        },
        "id": "Ww1eUQoZBqD5",
        "outputId": "3c2b95b2-0a46-4e6c-cbb2-8967b78785f8"
      },
      "outputs": [
        {
          "output_type": "execute_result",
          "data": {
            "text/plain": [
              "[9, 11, 13, 15, 17, 19]"
            ]
          },
          "metadata": {},
          "execution_count": 25
        }
      ],
      "source": [
        "numRdd = sc.parallelize([9,10,11,12,13,14,15,16,17,18,19,20])\n",
        "oddRdd = numRdd.filter(lambda num : num%2 == 1)\n",
        "oddRdd.collect()"
      ]
    },
    {
      "cell_type": "code",
      "execution_count": null,
      "metadata": {
        "colab": {
          "base_uri": "https://localhost:8080/"
        },
        "id": "IdV8VJ2dCRPr",
        "outputId": "3332a74c-d7d2-46c8-8cb2-1e61e1f4c63d"
      },
      "outputs": [
        {
          "output_type": "execute_result",
          "data": {
            "text/plain": [
              "[10, 12, 14, 16, 18, 20]"
            ]
          },
          "metadata": {},
          "execution_count": 90
        }
      ],
      "source": [
        "evenRdd = numRdd.filter(lambda num : num%2 == 0)\n",
        "evenRdd.collect()"
      ]
    },
    {
      "cell_type": "code",
      "execution_count": null,
      "metadata": {
        "id": "j0bQ_-JwCYRn"
      },
      "outputs": [],
      "source": [
        "x = sc.parallelize(\n",
        "    [\n",
        "    ('comp',5),\n",
        "     ('tab',1),\n",
        "     ('comp',1),\n",
        "     ('comp',1),\n",
        "     ('comp',1),\n",
        "      ('tab',1),\n",
        "     ('tab',1),\n",
        "     ('tab',1),\n",
        "     ('tab',1),\n",
        "     ('tab',1),\n",
        "     ('tab',1)\n",
        "                     ]\n",
        "                   )"
      ]
    },
    {
      "cell_type": "code",
      "execution_count": null,
      "metadata": {
        "colab": {
          "base_uri": "https://localhost:8080/"
        },
        "id": "uJ8mgrYWC8SZ",
        "outputId": "63aca01e-e438-4bfb-9fe4-2c69a80f108b"
      },
      "outputs": [
        {
          "output_type": "execute_result",
          "data": {
            "text/plain": [
              "[('comp', 5),\n",
              " ('tab', 1),\n",
              " ('comp', 1),\n",
              " ('comp', 1),\n",
              " ('comp', 1),\n",
              " ('tab', 1),\n",
              " ('tab', 1),\n",
              " ('tab', 1),\n",
              " ('tab', 1),\n",
              " ('tab', 1),\n",
              " ('tab', 1)]"
            ]
          },
          "metadata": {},
          "execution_count": 93
        }
      ],
      "source": [
        "x.collect()"
      ]
    },
    {
      "cell_type": "code",
      "execution_count": null,
      "metadata": {
        "colab": {
          "base_uri": "https://localhost:8080/"
        },
        "id": "qlED6I4uC-cS",
        "outputId": "b5ef53a3-8c26-4a0f-d291-e0ac7529a6da"
      },
      "outputs": [
        {
          "output_type": "execute_result",
          "data": {
            "text/plain": [
              "[('comp', 8), ('tab', 7)]"
            ]
          },
          "metadata": {},
          "execution_count": 94
        }
      ],
      "source": [
        "y = x.reduceByKey(lambda a, b:a+b)\n",
        "y.collect()"
      ]
    },
    {
      "cell_type": "code",
      "execution_count": null,
      "metadata": {
        "id": "5y2ihphND6rj"
      },
      "outputs": [],
      "source": [
        "mapRddint = sc.parallelize([3,4,5]).map(lambda x : range(1,x)).collect()"
      ]
    },
    {
      "cell_type": "code",
      "execution_count": null,
      "metadata": {
        "colab": {
          "base_uri": "https://localhost:8080/"
        },
        "id": "GlXiqDrsE212",
        "outputId": "6f4785b4-8074-4b28-9d89-a73340fbfcd8"
      },
      "outputs": [
        {
          "output_type": "execute_result",
          "data": {
            "text/plain": [
              "[range(1, 3), range(1, 4), range(1, 5)]"
            ]
          },
          "metadata": {},
          "execution_count": 97
        }
      ],
      "source": [
        "mapRddint"
      ]
    },
    {
      "cell_type": "code",
      "execution_count": null,
      "metadata": {
        "id": "ruDJbsTsE4JT"
      },
      "outputs": [],
      "source": [
        "flatMapRddInt = sc.parallelize([3,4,5]).flatMap(lambda x : range(1,x)).collect()"
      ]
    },
    {
      "cell_type": "code",
      "execution_count": null,
      "metadata": {
        "colab": {
          "base_uri": "https://localhost:8080/"
        },
        "id": "svbd5-UpFKYc",
        "outputId": "225dfe21-2477-464c-cc79-229fddebb0f4"
      },
      "outputs": [
        {
          "output_type": "execute_result",
          "data": {
            "text/plain": [
              "[1, 2, 1, 2, 3, 1, 2, 3, 4]"
            ]
          },
          "metadata": {},
          "execution_count": 33
        }
      ],
      "source": [
        "flatMapRddInt"
      ]
    },
    {
      "cell_type": "code",
      "execution_count": null,
      "metadata": {
        "id": "DnuZRQa5FMC7"
      },
      "outputs": [],
      "source": [
        "sentence = ['Welecome to Big Data.','The batch 108 107','Module is Big Data','Rdd are constructed']\n",
        "sentRdd = sc.parallelize(sentence)"
      ]
    },
    {
      "cell_type": "code",
      "execution_count": null,
      "metadata": {
        "colab": {
          "base_uri": "https://localhost:8080/"
        },
        "id": "z4hyzNcdFzxV",
        "outputId": "49c9d589-390a-4453-fc74-863db9c56c5c"
      },
      "outputs": [
        {
          "output_type": "execute_result",
          "data": {
            "text/plain": [
              "ParallelCollectionRDD[91] at readRDDFromFile at PythonRDD.scala:262"
            ]
          },
          "metadata": {},
          "execution_count": 99
        }
      ],
      "source": [
        "sentRdd"
      ]
    },
    {
      "cell_type": "code",
      "execution_count": null,
      "metadata": {
        "colab": {
          "base_uri": "https://localhost:8080/"
        },
        "id": "f1GQqX0NF0vZ",
        "outputId": "bc3861a4-97cc-4049-d012-4342d249d098"
      },
      "outputs": [
        {
          "output_type": "execute_result",
          "data": {
            "text/plain": [
              "[['Welecome', 'to', 'Big', 'Data.'],\n",
              " ['The', 'batch', '108', '107'],\n",
              " ['Module', 'is', 'Big', 'Data'],\n",
              " ['Rdd', 'are', 'constructed']]"
            ]
          },
          "metadata": {},
          "execution_count": 100
        }
      ],
      "source": [
        "sentRdd.map(lambda sent : sent.split(' ')).collect()"
      ]
    },
    {
      "cell_type": "code",
      "execution_count": null,
      "metadata": {
        "colab": {
          "base_uri": "https://localhost:8080/"
        },
        "collapsed": true,
        "id": "RTDARUbMGAok",
        "jupyter": {
          "outputs_hidden": true
        },
        "outputId": "f104b412-6cf8-4f24-c2b9-b0b325b80644"
      },
      "outputs": [
        {
          "output_type": "execute_result",
          "data": {
            "text/plain": [
              "['Welecome',\n",
              " 'to',\n",
              " 'Big',\n",
              " 'Data.',\n",
              " 'The',\n",
              " 'batch',\n",
              " '108',\n",
              " '107',\n",
              " 'Module',\n",
              " 'is',\n",
              " 'Big',\n",
              " 'Data',\n",
              " 'Rdd',\n",
              " 'are',\n",
              " 'constructed']"
            ]
          },
          "metadata": {},
          "execution_count": 101
        }
      ],
      "source": [
        "wordsRdd = sentRdd.flatMap(lambda sent : sent.split(' '))\n",
        "wordsRdd.collect()"
      ]
    },
    {
      "cell_type": "code",
      "execution_count": null,
      "metadata": {
        "id": "wejhEX89GUdl"
      },
      "outputs": [],
      "source": [
        "profRdd = sc.parallelize([('proff1',1),('proff2',1),('proff1',1),('proff1',1),('proff2',1),('proff3',1)])"
      ]
    },
    {
      "cell_type": "code",
      "execution_count": null,
      "metadata": {
        "colab": {
          "base_uri": "https://localhost:8080/"
        },
        "id": "-GJkUQoxHPrT",
        "outputId": "7dd06b92-0b2d-47cc-f015-fd4bbcac1556"
      },
      "outputs": [
        {
          "output_type": "execute_result",
          "data": {
            "text/plain": [
              "[('proff1', <pyspark.resultiterable.ResultIterable at 0x7eff6db52990>),\n",
              " ('proff3', <pyspark.resultiterable.ResultIterable at 0x7eff6d8f7450>),\n",
              " ('proff2', <pyspark.resultiterable.ResultIterable at 0x7eff6db63590>)]"
            ]
          },
          "metadata": {},
          "execution_count": 103
        }
      ],
      "source": [
        "profRdd.groupByKey().collect()"
      ]
    },
    {
      "cell_type": "code",
      "execution_count": null,
      "metadata": {
        "colab": {
          "base_uri": "https://localhost:8080/"
        },
        "id": "d4oaF0Y0HaVf",
        "outputId": "8f6c3f3d-a406-49b2-c88b-cd77515ba829"
      },
      "outputs": [
        {
          "output_type": "execute_result",
          "data": {
            "text/plain": [
              "[('proff1', [1, 1, 1]), ('proff3', [1]), ('proff2', [1, 1])]"
            ]
          },
          "metadata": {},
          "execution_count": 40
        }
      ],
      "source": [
        "profRdd.groupByKey().map(lambda x : (x[0],list(x[1]))).collect()"
      ]
    },
    {
      "cell_type": "code",
      "execution_count": null,
      "metadata": {
        "id": "1LlxPAnnH33w"
      },
      "outputs": [],
      "source": [
        "proffRdd1 = sc.parallelize(['proff1','proff2','proff1'\n",
        ",'proff1','proff2','proff3','proff1','proff2','proff3','student1','student2','student3'])"
      ]
    },
    {
      "cell_type": "code",
      "execution_count": null,
      "metadata": {
        "id": "G7MMNIiyIlbm"
      },
      "outputs": [],
      "source": [
        "result = proffRdd1.groupBy(lambda word : word[0]).collect()"
      ]
    },
    {
      "cell_type": "code",
      "execution_count": null,
      "metadata": {
        "colab": {
          "base_uri": "https://localhost:8080/"
        },
        "id": "xODlk9VOJDhC",
        "outputId": "7dae99a8-8148-40ca-979b-2f0aee063a74"
      },
      "outputs": [
        {
          "output_type": "execute_result",
          "data": {
            "text/plain": [
              "[('p', <pyspark.resultiterable.ResultIterable at 0x7eff6cd14b90>),\n",
              " ('s', <pyspark.resultiterable.ResultIterable at 0x7eff6cd141d0>)]"
            ]
          },
          "metadata": {},
          "execution_count": 108
        }
      ],
      "source": [
        "result"
      ]
    },
    {
      "cell_type": "code",
      "execution_count": null,
      "metadata": {
        "colab": {
          "base_uri": "https://localhost:8080/"
        },
        "id": "66_8h6GaJLkq",
        "outputId": "0171a6a7-664b-45d0-95f4-22f5fc44c6a3"
      },
      "outputs": [
        {
          "output_type": "execute_result",
          "data": {
            "text/plain": [
              "[('p',\n",
              "  ['proff1',\n",
              "   'proff2',\n",
              "   'proff1',\n",
              "   'proff1',\n",
              "   'proff2',\n",
              "   'proff3',\n",
              "   'proff1',\n",
              "   'proff2',\n",
              "   'proff3']),\n",
              " ('s', ['student1', 'student2', 'student3'])]"
            ]
          },
          "metadata": {},
          "execution_count": 44
        }
      ],
      "source": [
        "[(x,list(y)) for (x,y) in result]"
      ]
    },
    {
      "cell_type": "code",
      "execution_count": null,
      "metadata": {
        "id": "uUbpWAMFJV8f"
      },
      "outputs": [],
      "source": [
        "deviceRdd = sc.parallelize(['tab','computer','mobile','router','mouseclick'])\n",
        "pairRdd = deviceRdd.map(lambda x : (len(x),x))"
      ]
    },
    {
      "cell_type": "code",
      "execution_count": null,
      "metadata": {
        "colab": {
          "base_uri": "https://localhost:8080/"
        },
        "id": "O8muGR-8MuZ4",
        "outputId": "7c9da3b7-23a6-4fc9-b1fc-e45b9c0fc87f"
      },
      "outputs": [
        {
          "output_type": "execute_result",
          "data": {
            "text/plain": [
              "[(3, 'tab'), (8, 'computer'), (6, 'mobile'), (6, 'router'), (10, 'mouseclick')]"
            ]
          },
          "metadata": {},
          "execution_count": 110
        }
      ],
      "source": [
        "pairRdd.collect()"
      ]
    },
    {
      "cell_type": "code",
      "execution_count": null,
      "metadata": {
        "id": "DKqeDm1uMwom"
      },
      "outputs": [],
      "source": [
        "result = pairRdd.mapValues(lambda y :  \"Device Name is \" + y )"
      ]
    },
    {
      "cell_type": "code",
      "execution_count": null,
      "metadata": {
        "colab": {
          "base_uri": "https://localhost:8080/"
        },
        "id": "BMQh0u1TNGx7",
        "outputId": "4f79b9b3-3314-4b4c-fbc3-e0be170afca9"
      },
      "outputs": [
        {
          "output_type": "execute_result",
          "data": {
            "text/plain": [
              "[(3, 'Device Name is tab'),\n",
              " (8, 'Device Name is computer'),\n",
              " (6, 'Device Name is mobile'),\n",
              " (6, 'Device Name is router'),\n",
              " (10, 'Device Name is mouseclick')]"
            ]
          },
          "metadata": {},
          "execution_count": 113
        }
      ],
      "source": [
        "result.collect()"
      ]
    },
    {
      "cell_type": "code",
      "execution_count": null,
      "metadata": {
        "id": "o8SzllhiNIFZ"
      },
      "outputs": [],
      "source": [
        "rdd1 = sc.parallelize([(\"Mercedes\",\"E-Class\"),(\"Toyota\",\"Corolla\"),(\"Renault\",\"Duster\")])\n",
        "rdd2 = sc.parallelize([(\"Mercedes\",\"S-Class\"),(\"Toyota\",\"Fortuner\"),(\"Suzuki\",\"Mayona\")])\n",
        "innerJoinRdd = rdd1.join(rdd2)"
      ]
    },
    {
      "cell_type": "code",
      "execution_count": null,
      "metadata": {
        "colab": {
          "base_uri": "https://localhost:8080/"
        },
        "id": "b7QvHjPhOX4R",
        "outputId": "c4ebb3e1-aecf-43b1-da1a-d76a813512e2"
      },
      "outputs": [
        {
          "output_type": "execute_result",
          "data": {
            "text/plain": [
              "[('Mercedes', ('E-Class', 'S-Class')), ('Toyota', ('Corolla', 'Fortuner'))]"
            ]
          },
          "metadata": {},
          "execution_count": 115
        }
      ],
      "source": [
        "innerJoinRdd.collect()"
      ]
    },
    {
      "cell_type": "code",
      "execution_count": null,
      "metadata": {
        "colab": {
          "base_uri": "https://localhost:8080/"
        },
        "id": "1GudxMuwOZk1",
        "outputId": "af958b64-e950-4366-de79-fde13c753409"
      },
      "outputs": [
        {
          "output_type": "execute_result",
          "data": {
            "text/plain": [
              "[('Mercedes', ('E-Class', 'S-Class')),\n",
              " ('Renault', ('Duster', None)),\n",
              " ('Toyota', ('Corolla', 'Fortuner'))]"
            ]
          },
          "metadata": {},
          "execution_count": 116
        }
      ],
      "source": [
        "leftOuterJoinRdd = rdd1.leftOuterJoin(rdd2)\n",
        "leftOuterJoinRdd.collect()"
      ]
    },
    {
      "cell_type": "code",
      "execution_count": null,
      "metadata": {
        "colab": {
          "base_uri": "https://localhost:8080/"
        },
        "id": "uuZOwAFcOroe",
        "outputId": "adb8b393-96a0-4fba-fcba-861b653874da"
      },
      "outputs": [
        {
          "output_type": "execute_result",
          "data": {
            "text/plain": [
              "[('Mercedes', 'E-Class'),\n",
              " ('Toyota', 'Corolla'),\n",
              " ('Renault', 'Duster'),\n",
              " ('Mercedes', 'S-Class'),\n",
              " ('Toyota', 'Fortuner'),\n",
              " ('Suzuki', 'Mayona')]"
            ]
          },
          "metadata": {},
          "execution_count": 117
        }
      ],
      "source": [
        "unionRdd = rdd1.union(rdd2)\n",
        "unionRdd.collect()"
      ]
    },
    {
      "cell_type": "code",
      "execution_count": null,
      "metadata": {
        "colab": {
          "base_uri": "https://localhost:8080/"
        },
        "id": "U5t93SRHO_G6",
        "outputId": "2ab6ef09-e4f1-4d2d-81d2-26ff7d60821c"
      },
      "outputs": [
        {
          "output_type": "execute_result",
          "data": {
            "text/plain": [
              "('Mercedes', 'E-Class')"
            ]
          },
          "metadata": {},
          "execution_count": 118
        }
      ],
      "source": [
        "unionRdd.first()"
      ]
    },
    {
      "cell_type": "code",
      "execution_count": null,
      "metadata": {
        "colab": {
          "base_uri": "https://localhost:8080/"
        },
        "id": "ehtDoPf7PK-G",
        "outputId": "d76c6855-cf9a-4f03-d056-292a93cfd7f5"
      },
      "outputs": [
        {
          "output_type": "execute_result",
          "data": {
            "text/plain": [
              "[('Mercedes', 'E-Class'), ('Toyota', 'Corolla')]"
            ]
          },
          "metadata": {},
          "execution_count": 119
        }
      ],
      "source": [
        "unionRdd.take(2)"
      ]
    },
    {
      "cell_type": "code",
      "execution_count": null,
      "metadata": {
        "colab": {
          "base_uri": "https://localhost:8080/"
        },
        "id": "kWYiW5q0PM9m",
        "outputId": "fe3659b4-c823-4d19-a874-7ceb15dfe5d5"
      },
      "outputs": [
        {
          "output_type": "execute_result",
          "data": {
            "text/plain": [
              "[('Mercedes', 'E-Class'),\n",
              " ('Mercedes', 'S-Class'),\n",
              " ('Renault', 'Duster'),\n",
              " ('Suzuki', 'Mayona'),\n",
              " ('Toyota', 'Corolla'),\n",
              " ('Toyota', 'Fortuner')]"
            ]
          },
          "metadata": {},
          "execution_count": 122
        }
      ],
      "source": [
        "unionRdd.takeOrdered(10)"
      ]
    },
    {
      "cell_type": "markdown",
      "metadata": {
        "id": "nZRCIoBdYbs3"
      },
      "source": [
        "### Word Count Example"
      ]
    },
    {
      "cell_type": "markdown",
      "metadata": {
        "id": "bgraWlExW815"
      },
      "source": [
        "### Using the above operations write a spark program that can read the 'input.txt' file. Find the frequency of each word in the document"
      ]
    },
    {
      "cell_type": "code",
      "source": [],
      "metadata": {
        "id": "upxog21WasnQ"
      },
      "execution_count": null,
      "outputs": []
    }
  ],
  "metadata": {
    "colab": {
      "collapsed_sections": [],
      "name": "20220827_SparkRDD_Hands_0n.ipynb",
      "provenance": []
    },
    "kernelspec": {
      "display_name": "Python 3",
      "language": "python",
      "name": "python3"
    },
    "language_info": {
      "codemirror_mode": {
        "name": "ipython",
        "version": 3
      },
      "file_extension": ".py",
      "mimetype": "text/x-python",
      "name": "python",
      "nbconvert_exporter": "python",
      "pygments_lexer": "ipython3",
      "version": "3.7.6"
    }
  },
  "nbformat": 4,
  "nbformat_minor": 0
}